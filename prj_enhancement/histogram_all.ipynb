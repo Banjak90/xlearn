{
 "cells": [
  {
   "cell_type": "code",
   "execution_count": 39,
   "metadata": {
    "collapsed": false
   },
   "outputs": [
    {
     "name": "stderr",
     "output_type": "stream",
     "text": [
      "WARNING:dxchange.reader:netCDF4 module not found\n"
     ]
    }
   ],
   "source": [
    "import dxchange\n",
    "import numpy as np\n",
    "\n",
    "def nor_img(img):\n",
    "    img = (img-img.min())/(img.max()-img.min())\n",
    "    return img\n",
    "\n"
   ]
  },
  {
   "cell_type": "code",
   "execution_count": 40,
   "metadata": {
    "collapsed": false
   },
   "outputs": [
    {
     "data": {
      "image/png": "[encoded data removed]",
      "text/plain": [
       "<matplotlib.figure.Figure at 0x7fe609320690>"
      ]
     },
     "metadata": {},
     "output_type": "display_data"
    }
   ],
   "source": [
    "rec_org = dxchange.read_tiff('/home/beams/YANGX/cnn_prj_enhance/sim/rec_final/org-1.tiff')\n",
    "rec_org = nor_img(rec_org[20])\n",
    "rec_n05 = dxchange.read_tiff('/home/beams/YANGX/cnn_prj_enhance/sim/rec_prj2_n/n05.tiff')\n",
    "rec_n05 = nor_img(rec_n05[20])\n",
    "rec_p05 = dxchange.read_tiff('/home/beams/YANGX/cnn_prj_enhance/sim/rec2_prd_tf/tf_n05.tiff')\n",
    "rec_p05 = nor_img(rec_p05[20])\n",
    "\n",
    "bins = np.arange(0, 1, 0.001)\n",
    "hist_org, bin_edges = np.histogram(rec_org, bins)\n",
    "hist_n05, bin_edges = np.histogram(rec_n05, bins)\n",
    "hist_p05, bin_edges = np.histogram(rec_p05, bins)\n",
    "\n",
    "plt.plot(hist_org, color='blue', alpha=1.00)\n",
    "plt.show()"
   ]
  },
  {
   "cell_type": "code",
   "execution_count": 55,
   "metadata": {
    "collapsed": false
   },
   "outputs": [
    {
     "name": "stdout",
     "output_type": "stream",
     "text": [
      "10029 2962 9574\n"
     ]
    }
   ],
   "source": [
    "print(hist_org.max(), hist_n05.max(), hist_p05.max())"
   ]
  },
  {
   "cell_type": "code",
   "execution_count": 68,
   "metadata": {
    "collapsed": false
   },
   "outputs": [],
   "source": [
    "fig = plt.figure(figsize=(4,8))\n",
    "plt.fill(hist_org)\n",
    "plt.ylim(0, 10030)\n",
    "plt.xlim(0, 1000)\n",
    "plt.xticks([])\n",
    "plt.yticks([])\n",
    "\n",
    "plt.savefig('hist_org.eps', format='eps', dpi=1000)\n",
    "plt.savefig('hist_org.png')\n"
   ]
  },
  {
   "cell_type": "code",
   "execution_count": 3,
   "metadata": {
    "collapsed": true
   },
   "outputs": [],
   "source": [
    "rec_org = dxchange.read_tiff('/home/beams/YANGX/cnn_prj_enhance/sim/rec_final/org-1.tiff')\n",
    "# rec_org = nor_img(rec_org)\n",
    "\n",
    "rec_n05 = dxchange.read_tiff('/home/beams/YANGX/cnn_prj_enhance/sim/rec_prj2_n/n05.tiff')\n",
    "rec_n05 = nor_img(rec_n05)\n",
    "rec_p05 = dxchange.read_tiff('/home/beams/YANGX/cnn_prj_enhance/sim/rec2_prd_tf/tf_n05.tiff')\n",
    "rec_p05 = nor_img(rec_p05)\n",
    "\n",
    "rec_n10 = dxchange.read_tiff('/home/beams/YANGX/cnn_prj_enhance/sim/rec_prj2_n/n10.tiff')\n",
    "rec_n10 = nor_img(rec_n10)\n",
    "rec_p10 = dxchange.read_tiff('/home/beams/YANGX/cnn_prj_enhance/sim/rec2_prd_tf/tf_n10.tiff')\n",
    "rec_p10 = nor_img(rec_p10)\n",
    "\n",
    "rec_n15 = dxchange.read_tiff('/home/beams/YANGX/cnn_prj_enhance/sim/rec_prj2_n/n15.tiff')\n",
    "rec_n15 = nor_img(rec_n15)\n",
    "rec_p15 = dxchange.read_tiff('/home/beams/YANGX/cnn_prj_enhance/sim/rec2_prd_tf/tf_n15.tiff')\n",
    "rec_p15 = nor_img(rec_p15)\n",
    "\n",
    "rec_n20 = dxchange.read_tiff('/home/beams/YANGX/cnn_prj_enhance/sim/rec_prj2_n/n20.tiff')\n",
    "rec_n20 = nor_img(rec_n20)\n",
    "rec_p20 = dxchange.read_tiff('/home/beams/YANGX/cnn_prj_enhance/sim/rec2_prd_tf/tf_n20.tiff')\n",
    "rec_p20 = nor_img(rec_p20)\n",
    "\n",
    "rec_n25 = dxchange.read_tiff('/home/beams/YANGX/cnn_prj_enhance/sim/rec_prj2_n/n25.tiff')\n",
    "rec_n25 = nor_img(rec_n25)\n",
    "rec_p25 = dxchange.read_tiff('/home/beams/YANGX/cnn_prj_enhance/sim/rec2_prd_tf/tf_n25.tiff')\n",
    "rec_p25 = nor_img(rec_p25)\n",
    "\n",
    "rec_n30 = dxchange.read_tiff('/home/beams/YANGX/cnn_prj_enhance/sim/rec_prj2_n/n30.tiff')\n",
    "rec_n30 = nor_img(rec_n30)\n",
    "rec_p30 = dxchange.read_tiff('/home/beams/YANGX/cnn_prj_enhance/sim/rec2_prd_tf/tf_n30.tiff')\n",
    "rec_p30 = nor_img(rec_p30)"
   ]
  },
  {
   "cell_type": "code",
   "execution_count": 17,
   "metadata": {
    "collapsed": false
   },
   "outputs": [],
   "source": [
    "bins = np.arange(0, 1, 0.001)\n",
    "hist_n05, bin_edges = np.histogram(rec_n05, bins)\n",
    "np.save('/home/beams/YANGX/cnn_prj_enhance/sim/histogram/hist_n05', hist_n05)\n",
    "hist_p05, bin_edges = np.histogram(rec_p05, bins)\n",
    "np.save('/home/beams/YANGX/cnn_prj_enhance/sim/histogram/hist_cnn05', hist_p05)\n",
    "\n",
    "hist_n10, bin_edges = np.histogram(rec_n10, bins)\n",
    "np.save('/home/beams/YANGX/cnn_prj_enhance/sim/histogram/hist_n10', hist_n10)\n",
    "hist_p10, bin_edges = np.histogram(rec_p10, bins)\n",
    "np.save('/home/beams/YANGX/cnn_prj_enhance/sim/histogram/hist_cnn10', hist_p10)\n",
    "\n",
    "hist_n15, bin_edges = np.histogram(rec_n15, bins)\n",
    "np.save('/home/beams/YANGX/cnn_prj_enhance/sim/histogram/hist_n15', hist_n15)\n",
    "hist_p15, bin_edges = np.histogram(rec_p15, bins)\n",
    "np.save('/home/beams/YANGX/cnn_prj_enhance/sim/histogram/hist_cnn15', hist_p15)\n",
    "\n",
    "hist_n20, bin_edges = np.histogram(rec_n20, bins)\n",
    "np.save('/home/beams/YANGX/cnn_prj_enhance/sim/histogram/hist_n20', hist_n20)\n",
    "hist_p20, bin_edges = np.histogram(rec_p20, bins)\n",
    "np.save('/home/beams/YANGX/cnn_prj_enhance/sim/histogram/hist_cnn20', hist_p20)\n",
    "\n",
    "hist_n25, bin_edges = np.histogram(rec_n25, bins)\n",
    "np.save('/home/beams/YANGX/cnn_prj_enhance/sim/histogram/hist_n25', hist_n25)\n",
    "hist_p25, bin_edges = np.histogram(rec_p25, bins)\n",
    "np.save('/home/beams/YANGX/cnn_prj_enhance/sim/histogram/hist_cnn25', hist_p25)\n",
    "\n",
    "hist_n30, bin_edges = np.histogram(rec_n30, bins)\n",
    "np.save('/home/beams/YANGX/cnn_prj_enhance/sim/histogram/hist_n30', hist_n30)\n",
    "hist_p30, bin_edges = np.histogram(rec_p30, bins)\n",
    "np.save('/home/beams/YANGX/cnn_prj_enhance/sim/histogram/hist_cnn30', hist_p30)"
   ]
  },
  {
   "cell_type": "code",
   "execution_count": 11,
   "metadata": {
    "collapsed": false
   },
   "outputs": [
    {
     "name": "stdout",
     "output_type": "stream",
     "text": [
      "(999,)\n"
     ]
    }
   ],
   "source": [
    "print hist_n05.shape"
   ]
  },
  {
   "cell_type": "code",
   "execution_count": 37,
   "metadata": {
    "collapsed": false
   },
   "outputs": [
    {
     "data": {
      "image/png": "[encoded data removed]",
      "text/plain": [
       "<matplotlib.figure.Figure at 0x7fe6098db990>"
      ]
     },
     "metadata": {},
     "output_type": "display_data"
    }
   ],
   "source": [
    "from __future__ import print_function\n",
    "import numpy as np\n",
    "import matplotlib.pyplot as plt\n",
    "import matplotlib.ticker as ticker\n",
    "\n",
    "\n",
    "def setplot(fname, nplot, xplot, yplot, label=False):\n",
    "\n",
    "    data = np.load(fname)\n",
    "    ax = fig.add_subplot(nplot, xplot, yplot)\n",
    "    if label:\n",
    "        ax.set_ylabel(label, rotation=0)\n",
    "    ax.yaxis.set_label_coords(0.5, 1.02)\n",
    "    ax.xaxis.set_ticklabels([])\n",
    "    ax.yaxis.set_ticklabels([])\n",
    "\n",
    "    ax.set_xlim(1, 10**3)\n",
    "    ax.set_ylim(1, 5 * 10**6)\n",
    "    ax.xaxis.set_major_locator(ticker.AutoLocator())\n",
    "\n",
    "    # for linear ticks\n",
    "    ax.yaxis.set_major_locator(ticker.LinearLocator(10))\n",
    "\n",
    "\n",
    "    # for log ticks\n",
    "    #ax_n05.set_yscale('log')\n",
    "    #ax_n05.yaxis.set_major_locator(ticker.LogLocator(base=10.0, numticks=4))\n",
    "    return data, ax\n",
    "\n",
    "if __name__ == '__main__':\n",
    "\n",
    "    fig = plt.figure(figsize=(8,8))\n",
    "\n",
    "#     fig.suptitle('Noise Level', fontsize=12, fontweight='bold')\n",
    "#     fig.subplots_adjust(top=0)\n",
    "\n",
    "    n05, ax_n05 = setplot('/home/beams/YANGX/cnn_prj_enhance/sim/histogram/hist_n05.npy', 2, 6, 1, label='5%')\n",
    "#     ax_n05.set_title('Simulated')\n",
    "    ax_n05.fill(n05)\n",
    "\n",
    "\n",
    "    c05, ax_c05 = setplot('/home/beams/YANGX/cnn_prj_enhance/sim/histogram/hist_cnn05.npy', 2, 6, 7, label='5%')\n",
    "#     ax_c05.set_title('CNN enhanced')\n",
    "    ax_c05.fill(c05)\n",
    "\n",
    "    n10, ax_n10 = setplot('/home/beams/YANGX/cnn_prj_enhance/sim/histogram/hist_n10.npy', 2, 6, 2, label='10%')\n",
    "    ax_n10.fill(n10)\n",
    "\n",
    "    c10, ax_c10 = setplot('/home/beams/YANGX/cnn_prj_enhance/sim/histogram/hist_cnn10.npy', 2, 6, 8,label='10%')\n",
    "    ax_c10.fill(c10)\n",
    "\n",
    "    n15, ax_n15 = setplot('/home/beams/YANGX/cnn_prj_enhance/sim/histogram/hist_n15.npy', 2, 6, 3, label='15%')\n",
    "    ax_n15.fill(n15)\n",
    "\n",
    "    c15, ax_c15 = setplot('/home/beams/YANGX/cnn_prj_enhance/sim/histogram/hist_cnn15.npy', 2, 6, 9, label='15%')\n",
    "    ax_c15.fill(c15)\n",
    "\n",
    "    n20, ax_n20 = setplot('/home/beams/YANGX/cnn_prj_enhance/sim/histogram/hist_n20.npy', 2, 6, 4, label='20%')\n",
    "    ax_n20.fill(n20)\n",
    "\n",
    "    c20, ax_c20 = setplot('/home/beams/YANGX/cnn_prj_enhance/sim/histogram/hist_cnn20.npy', 2, 6, 10, label='20%')\n",
    "    ax_c20.fill(c20)\n",
    "\n",
    "    n25, ax_n25 = setplot('/home/beams/YANGX/cnn_prj_enhance/sim/histogram/hist_n20.npy', 2, 6, 5, label='25%')\n",
    "    ax_n25.fill(n25)\n",
    "\n",
    "    c25, ax_c25 = setplot('/home/beams/YANGX/cnn_prj_enhance/sim/histogram/hist_cnn25.npy', 2, 6, 11, label='25%')\n",
    "    ax_c25.fill(c25)\n",
    "\n",
    "    n30, ax_n30 = setplot('/home/beams/YANGX/cnn_prj_enhance/sim/histogram/hist_n30.npy', 2, 6, 6, label='30%')\n",
    "    ax_n30.fill(n30)\n",
    "\n",
    "    c30, ax_c30 = setplot('/home/beams/YANGX/cnn_prj_enhance/sim/histogram/hist_cnn30.npy', 2, 6, 12, label='30%')\n",
    "    ax_c30.fill(c30)\n",
    "\n",
    "    plt.savefig('plot.eps', format='eps', dpi=1000)\n",
    "    plt.savefig('plot.png')\n",
    "    plt.show()"
   ]
  },
  {
   "cell_type": "code",
   "execution_count": 71,
   "metadata": {
    "collapsed": true
   },
   "outputs": [],
   "source": [
    "import numpy as np\n",
    "import dxchange\n",
    "import matplotlib.pyplot as plt\n",
    "from skimage.measure import compare_ssim "
   ]
  },
  {
   "cell_type": "code",
   "execution_count": 85,
   "metadata": {
    "collapsed": true
   },
   "outputs": [],
   "source": [
    "def nor_data(img):\n",
    "    \"\"\"\n",
    "    Normalize the image\n",
    "\n",
    "    Parameters\n",
    "    ----------\n",
    "    img: array\n",
    "        The images need to be normalized\n",
    "\n",
    "    Returns\n",
    "    -------\n",
    "    img\n",
    "        Description.\n",
    "    \"\"\"\n",
    "    mean_tmp = np.mean(img)\n",
    "    std_tmp = np.std(img)\n",
    "    img = (img - mean_tmp) / std_tmp\n",
    "    img = (img -img.min())/(img.max()-img.min())\n",
    "    return img\n",
    "\n",
    "\n",
    "def psnr(rec1, rec2):\n",
    "    return 10.0 * np.log(1.0 / (np.mean(np.square(rec1 - rec2)))) / np.log(10.0)"
   ]
  },
  {
   "cell_type": "code",
   "execution_count": 102,
   "metadata": {
    "collapsed": true
   },
   "outputs": [],
   "source": [
    "data_2s = dxchange.read_tiff('/home/beams1/YANGX/cnn_prj_enhance/brain_data_201610/data_mira.tiff')\n",
    "data_30s = dxchange.read_tiff('/home/beams1/YANGX/cnn_prj_enhance/train_vincent/train_vincent_ds.tiff')\n",
    "data_cnn = dxchange.read_tiff('/home/beams1/YANGX/cnn_prj_enhance/cnn_enhanced_stacks/tf_prd_20170419.tif')"
   ]
  },
  {
   "cell_type": "code",
   "execution_count": 103,
   "metadata": {
    "collapsed": false
   },
   "outputs": [
    {
     "name": "stdout",
     "output_type": "stream",
     "text": [
      "0.840949888445 0.451891758789\n",
      "27.2960693427 21.4905388483\n"
     ]
    }
   ],
   "source": [
    "img_2s = nor_data(data_2s[300])\n",
    "img_30s = nor_data(data_30s[11])\n",
    "img_cnn = nor_data(data_cnn[300])\n",
    "dr = img_30s.max()-img_30s.min()\n",
    "ssim_1 = compare_ssim(img_30s, img_cnn, dynamic_range=dr)\n",
    "ssim_2 = compare_ssim(img_30s, img_2s, dynamic_range=dr)\n",
    "psnr1 = psnr(img_30s, img_cnn)\n",
    "psnr2 = psnr(img_30s, img_2s)\n",
    "print(ssim_1, ssim_2)\n",
    "print(psnr1, psnr2)"
   ]
  },
  {
   "cell_type": "code",
   "execution_count": 119,
   "metadata": {
    "collapsed": false
   },
   "outputs": [
    {
     "data": {
      "image/png": "[encoded data removed]",
      "text/plain": [
       "<matplotlib.figure.Figure at 0x7fe6034c3690>"
      ]
     },
     "metadata": {},
     "output_type": "display_data"
    }
   ],
   "source": [
    "fig = plt.figure()\n",
    "plt.plot(img_2s[500:,500]+0.08, color = 'red')\n",
    "plt.plot(img_30s[500:,500], color = 'blue')\n",
    "plt.plot(img_cnn[500:, 500]-0.02, color = 'green')\n",
    "plt.show()"
   ]
  },
  {
   "cell_type": "code",
   "execution_count": null,
   "metadata": {
    "collapsed": true
   },
   "outputs": [],
   "source": []
  },
  {
   "cell_type": "code",
   "execution_count": 104,
   "metadata": {
    "collapsed": false
   },
   "outputs": [
    {
     "name": "stdout",
     "output_type": "stream",
     "text": [
      "0.869653468498 0.610934420706\n",
      "20.7910337833 20.7160317795\n"
     ]
    }
   ],
   "source": [
    "img_2s = nor_data(data_2s[60])\n",
    "img_30s = nor_data(data_30s[3])\n",
    "img_cnn = nor_data(data_cnn[60])\n",
    "dr = img_30s.max()-img_30s.min()\n",
    "ssim_1 = compare_ssim(img_30s, img_cnn, dynamic_range=dr)\n",
    "ssim_2 = compare_ssim(img_30s, img_2s, dynamic_range=dr)\n",
    "psnr1 = psnr(img_30s, img_cnn)\n",
    "psnr2 = psnr(img_30s, img_2s)\n",
    "print(ssim_1, ssim_2)\n",
    "print(psnr1, psnr2)"
   ]
  },
  {
   "cell_type": "code",
   "execution_count": 105,
   "metadata": {
    "collapsed": false
   },
   "outputs": [
    {
     "name": "stdout",
     "output_type": "stream",
     "text": [
      "0.872591528914 0.689992066781\n",
      "24.6154779264 25.1311668564\n"
     ]
    }
   ],
   "source": [
    "img_2s = nor_data(data_2s[120])\n",
    "img_30s = nor_data(data_30s[5])\n",
    "img_cnn = nor_data(data_cnn[120])\n",
    "dr = img_30s.max()-img_30s.min()\n",
    "ssim_1 = compare_ssim(img_30s, img_cnn, dynamic_range=dr)\n",
    "ssim_2 = compare_ssim(img_30s, img_2s, dynamic_range=dr)\n",
    "psnr1 = psnr(img_30s, img_cnn)\n",
    "psnr2 = psnr(img_30s, img_2s)\n",
    "print(ssim_1, ssim_2)\n",
    "print(psnr1, psnr2)"
   ]
  },
  {
   "cell_type": "code",
   "execution_count": 106,
   "metadata": {
    "collapsed": false
   },
   "outputs": [
    {
     "name": "stdout",
     "output_type": "stream",
     "text": [
      "0.851241039047 0.641176028294\n",
      "23.4362112369 15.9239910148\n"
     ]
    }
   ],
   "source": [
    "img_2s = nor_data(data_2s[180])\n",
    "img_30s = nor_data(data_30s[7])\n",
    "img_cnn = nor_data(data_cnn[180])\n",
    "dr = img_30s.max()-img_30s.min()\n",
    "ssim_1 = compare_ssim(img_30s, img_cnn, dynamic_range=dr)\n",
    "ssim_2 = compare_ssim(img_30s, img_2s, dynamic_range=dr)\n",
    "psnr1 = psnr(img_30s, img_cnn)\n",
    "psnr2 = psnr(img_30s, img_2s)\n",
    "print(ssim_1, ssim_2)\n",
    "print(psnr1, psnr2)"
   ]
  },
  {
   "cell_type": "code",
   "execution_count": 107,
   "metadata": {
    "collapsed": false
   },
   "outputs": [
    {
     "name": "stdout",
     "output_type": "stream",
     "text": [
      "0.772461946946 0.463480162149\n",
      "20.8082675296 21.9413386605\n"
     ]
    }
   ],
   "source": [
    "img_2s = nor_data(data_2s[0])\n",
    "img_30s = nor_data(data_30s[1])\n",
    "img_cnn = nor_data(data_cnn[0])\n",
    "dr = img_30s.max()-img_30s.min()\n",
    "ssim_1 = compare_ssim(img_30s, img_cnn, dynamic_range=dr)\n",
    "ssim_2 = compare_ssim(img_30s, img_2s, dynamic_range=dr)\n",
    "psnr1 = psnr(img_30s, img_cnn)\n",
    "psnr2 = psnr(img_30s, img_2s)\n",
    "print(ssim_1, ssim_2)\n",
    "print(psnr1, psnr2)"
   ]
  },
  {
   "cell_type": "code",
   "execution_count": 108,
   "metadata": {
    "collapsed": false
   },
   "outputs": [
    {
     "name": "stdout",
     "output_type": "stream",
     "text": [
      "0.825566362287 0.459317237259\n",
      "26.5366362351 22.2007816004\n"
     ]
    }
   ],
   "source": [
    "img_2s = nor_data(data_2s[240])\n",
    "img_30s = nor_data(data_30s[9])\n",
    "img_cnn = nor_data(data_cnn[240])\n",
    "dr = img_30s.max()-img_30s.min()\n",
    "ssim_1 = compare_ssim(img_30s, img_cnn, dynamic_range=dr)\n",
    "ssim_2 = compare_ssim(img_30s, img_2s, dynamic_range=dr)\n",
    "psnr1 = psnr(img_30s, img_cnn)\n",
    "psnr2 = psnr(img_30s, img_2s)\n",
    "print(ssim_1, ssim_2)\n",
    "print(psnr1, psnr2)"
   ]
  }
 ],
 "metadata": {
  "kernelspec": {
   "display_name": "Python 2",
   "language": "python",
   "name": "python2"
  },
  "language_info": {
   "codemirror_mode": {
    "name": "ipython",
    "version": 2
   },
   "file_extension": ".py",
   "mimetype": "text/x-python",
   "name": "python",
   "nbconvert_exporter": "python",
   "pygments_lexer": "ipython2",
   "version": "2.7.13"
  }
 },
 "nbformat": 4,
 "nbformat_minor": 2
}
